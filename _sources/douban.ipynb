{
 "cells": [
  {
   "cell_type": "code",
   "execution_count": 3,
   "id": "f2d187a0-3251-4656-bc11-4420b929da12",
   "metadata": {
    "slideshow": {
     "slide_type": "skip"
    },
    "tags": []
   },
   "outputs": [],
   "source": [
    "import pandas as pd\n",
    "from bloxs import B\n",
    "from IPython.display import HTML\n",
    "import plotly.express as px"
   ]
  },
  {
   "cell_type": "code",
   "execution_count": 4,
   "id": "fc032d34-123d-4f4d-8ee1-73b90d1381c6",
   "metadata": {
    "slideshow": {
     "slide_type": "skip"
    },
    "tags": []
   },
   "outputs": [],
   "source": [
    "df = pd.read_csv('douban.csv', index_col=False)"
   ]
  },
  {
   "cell_type": "code",
   "execution_count": 5,
   "id": "051ccb1e-c323-46e7-afa7-00df52dad7be",
   "metadata": {
    "slideshow": {
     "slide_type": "skip"
    }
   },
   "outputs": [],
   "source": [
    "# 译者为空表明是中文作品，也可能是不知道的译者，大约差不多\n",
    "chinese_book = df[df.iloc[:,3].isnull()==True].count()[0]\n",
    "d = { \"中文\": chinese_book, \"译文\": 250 - chinese_book}\n",
    "s_by_lang = pd.Series(d)"
   ]
  },
  {
   "cell_type": "markdown",
   "id": "5638e76a",
   "metadata": {
    "slideshow": {
     "slide_type": "slide"
    }
   },
   "source": [
    "# 豆瓣图书排名分析"
   ]
  },
  {
   "cell_type": "code",
   "execution_count": 6,
   "id": "53e9251f-9ddc-4b0b-ab33-ec1cda2c509d",
   "metadata": {
    "slideshow": {
     "slide_type": "slide"
    },
    "tags": []
   },
   "outputs": [
    {
     "data": {
      "application/vnd.plotly.v1+json": {
       "config": {
        "plotlyServerURL": "https://plot.ly"
       },
       "data": [
        {
         "domain": {
          "x": [
           0,
           1
          ],
          "y": [
           0,
           1
          ]
         },
         "hovertemplate": "index=%{label}<br>value=%{value}<extra></extra>",
         "labels": [
          "中文",
          "译文"
         ],
         "legendgroup": "",
         "name": "",
         "showlegend": true,
         "type": "pie",
         "values": [
          111,
          139
         ]
        }
       ],
       "layout": {
        "autosize": true,
        "legend": {
         "tracegroupgap": 0
        },
        "margin": {
         "t": 60
        },
        "template": {
         "data": {
          "bar": [
           {
            "error_x": {
             "color": "#2a3f5f"
            },
            "error_y": {
             "color": "#2a3f5f"
            },
            "marker": {
             "line": {
              "color": "#E5ECF6",
              "width": 0.5
             },
             "pattern": {
              "fillmode": "overlay",
              "size": 10,
              "solidity": 0.2
             }
            },
            "type": "bar"
           }
          ],
          "barpolar": [
           {
            "marker": {
             "line": {
              "color": "#E5ECF6",
              "width": 0.5
             },
             "pattern": {
              "fillmode": "overlay",
              "size": 10,
              "solidity": 0.2
             }
            },
            "type": "barpolar"
           }
          ],
          "carpet": [
           {
            "aaxis": {
             "endlinecolor": "#2a3f5f",
             "gridcolor": "white",
             "linecolor": "white",
             "minorgridcolor": "white",
             "startlinecolor": "#2a3f5f"
            },
            "baxis": {
             "endlinecolor": "#2a3f5f",
             "gridcolor": "white",
             "linecolor": "white",
             "minorgridcolor": "white",
             "startlinecolor": "#2a3f5f"
            },
            "type": "carpet"
           }
          ],
          "choropleth": [
           {
            "colorbar": {
             "outlinewidth": 0,
             "ticks": ""
            },
            "type": "choropleth"
           }
          ],
          "contour": [
           {
            "colorbar": {
             "outlinewidth": 0,
             "ticks": ""
            },
            "colorscale": [
             [
              0,
              "#0d0887"
             ],
             [
              0.1111111111111111,
              "#46039f"
             ],
             [
              0.2222222222222222,
              "#7201a8"
             ],
             [
              0.3333333333333333,
              "#9c179e"
             ],
             [
              0.4444444444444444,
              "#bd3786"
             ],
             [
              0.5555555555555556,
              "#d8576b"
             ],
             [
              0.6666666666666666,
              "#ed7953"
             ],
             [
              0.7777777777777778,
              "#fb9f3a"
             ],
             [
              0.8888888888888888,
              "#fdca26"
             ],
             [
              1,
              "#f0f921"
             ]
            ],
            "type": "contour"
           }
          ],
          "contourcarpet": [
           {
            "colorbar": {
             "outlinewidth": 0,
             "ticks": ""
            },
            "type": "contourcarpet"
           }
          ],
          "heatmap": [
           {
            "colorbar": {
             "outlinewidth": 0,
             "ticks": ""
            },
            "colorscale": [
             [
              0,
              "#0d0887"
             ],
             [
              0.1111111111111111,
              "#46039f"
             ],
             [
              0.2222222222222222,
              "#7201a8"
             ],
             [
              0.3333333333333333,
              "#9c179e"
             ],
             [
              0.4444444444444444,
              "#bd3786"
             ],
             [
              0.5555555555555556,
              "#d8576b"
             ],
             [
              0.6666666666666666,
              "#ed7953"
             ],
             [
              0.7777777777777778,
              "#fb9f3a"
             ],
             [
              0.8888888888888888,
              "#fdca26"
             ],
             [
              1,
              "#f0f921"
             ]
            ],
            "type": "heatmap"
           }
          ],
          "heatmapgl": [
           {
            "colorbar": {
             "outlinewidth": 0,
             "ticks": ""
            },
            "colorscale": [
             [
              0,
              "#0d0887"
             ],
             [
              0.1111111111111111,
              "#46039f"
             ],
             [
              0.2222222222222222,
              "#7201a8"
             ],
             [
              0.3333333333333333,
              "#9c179e"
             ],
             [
              0.4444444444444444,
              "#bd3786"
             ],
             [
              0.5555555555555556,
              "#d8576b"
             ],
             [
              0.6666666666666666,
              "#ed7953"
             ],
             [
              0.7777777777777778,
              "#fb9f3a"
             ],
             [
              0.8888888888888888,
              "#fdca26"
             ],
             [
              1,
              "#f0f921"
             ]
            ],
            "type": "heatmapgl"
           }
          ],
          "histogram": [
           {
            "marker": {
             "pattern": {
              "fillmode": "overlay",
              "size": 10,
              "solidity": 0.2
             }
            },
            "type": "histogram"
           }
          ],
          "histogram2d": [
           {
            "colorbar": {
             "outlinewidth": 0,
             "ticks": ""
            },
            "colorscale": [
             [
              0,
              "#0d0887"
             ],
             [
              0.1111111111111111,
              "#46039f"
             ],
             [
              0.2222222222222222,
              "#7201a8"
             ],
             [
              0.3333333333333333,
              "#9c179e"
             ],
             [
              0.4444444444444444,
              "#bd3786"
             ],
             [
              0.5555555555555556,
              "#d8576b"
             ],
             [
              0.6666666666666666,
              "#ed7953"
             ],
             [
              0.7777777777777778,
              "#fb9f3a"
             ],
             [
              0.8888888888888888,
              "#fdca26"
             ],
             [
              1,
              "#f0f921"
             ]
            ],
            "type": "histogram2d"
           }
          ],
          "histogram2dcontour": [
           {
            "colorbar": {
             "outlinewidth": 0,
             "ticks": ""
            },
            "colorscale": [
             [
              0,
              "#0d0887"
             ],
             [
              0.1111111111111111,
              "#46039f"
             ],
             [
              0.2222222222222222,
              "#7201a8"
             ],
             [
              0.3333333333333333,
              "#9c179e"
             ],
             [
              0.4444444444444444,
              "#bd3786"
             ],
             [
              0.5555555555555556,
              "#d8576b"
             ],
             [
              0.6666666666666666,
              "#ed7953"
             ],
             [
              0.7777777777777778,
              "#fb9f3a"
             ],
             [
              0.8888888888888888,
              "#fdca26"
             ],
             [
              1,
              "#f0f921"
             ]
            ],
            "type": "histogram2dcontour"
           }
          ],
          "mesh3d": [
           {
            "colorbar": {
             "outlinewidth": 0,
             "ticks": ""
            },
            "type": "mesh3d"
           }
          ],
          "parcoords": [
           {
            "line": {
             "colorbar": {
              "outlinewidth": 0,
              "ticks": ""
             }
            },
            "type": "parcoords"
           }
          ],
          "pie": [
           {
            "automargin": true,
            "type": "pie"
           }
          ],
          "scatter": [
           {
            "fillpattern": {
             "fillmode": "overlay",
             "size": 10,
             "solidity": 0.2
            },
            "type": "scatter"
           }
          ],
          "scatter3d": [
           {
            "line": {
             "colorbar": {
              "outlinewidth": 0,
              "ticks": ""
             }
            },
            "marker": {
             "colorbar": {
              "outlinewidth": 0,
              "ticks": ""
             }
            },
            "type": "scatter3d"
           }
          ],
          "scattercarpet": [
           {
            "marker": {
             "colorbar": {
              "outlinewidth": 0,
              "ticks": ""
             }
            },
            "type": "scattercarpet"
           }
          ],
          "scattergeo": [
           {
            "marker": {
             "colorbar": {
              "outlinewidth": 0,
              "ticks": ""
             }
            },
            "type": "scattergeo"
           }
          ],
          "scattergl": [
           {
            "marker": {
             "colorbar": {
              "outlinewidth": 0,
              "ticks": ""
             }
            },
            "type": "scattergl"
           }
          ],
          "scattermapbox": [
           {
            "marker": {
             "colorbar": {
              "outlinewidth": 0,
              "ticks": ""
             }
            },
            "type": "scattermapbox"
           }
          ],
          "scatterpolar": [
           {
            "marker": {
             "colorbar": {
              "outlinewidth": 0,
              "ticks": ""
             }
            },
            "type": "scatterpolar"
           }
          ],
          "scatterpolargl": [
           {
            "marker": {
             "colorbar": {
              "outlinewidth": 0,
              "ticks": ""
             }
            },
            "type": "scatterpolargl"
           }
          ],
          "scatterternary": [
           {
            "marker": {
             "colorbar": {
              "outlinewidth": 0,
              "ticks": ""
             }
            },
            "type": "scatterternary"
           }
          ],
          "surface": [
           {
            "colorbar": {
             "outlinewidth": 0,
             "ticks": ""
            },
            "colorscale": [
             [
              0,
              "#0d0887"
             ],
             [
              0.1111111111111111,
              "#46039f"
             ],
             [
              0.2222222222222222,
              "#7201a8"
             ],
             [
              0.3333333333333333,
              "#9c179e"
             ],
             [
              0.4444444444444444,
              "#bd3786"
             ],
             [
              0.5555555555555556,
              "#d8576b"
             ],
             [
              0.6666666666666666,
              "#ed7953"
             ],
             [
              0.7777777777777778,
              "#fb9f3a"
             ],
             [
              0.8888888888888888,
              "#fdca26"
             ],
             [
              1,
              "#f0f921"
             ]
            ],
            "type": "surface"
           }
          ],
          "table": [
           {
            "cells": {
             "fill": {
              "color": "#EBF0F8"
             },
             "line": {
              "color": "white"
             }
            },
            "header": {
             "fill": {
              "color": "#C8D4E3"
             },
             "line": {
              "color": "white"
             }
            },
            "type": "table"
           }
          ]
         },
         "layout": {
          "annotationdefaults": {
           "arrowcolor": "#2a3f5f",
           "arrowhead": 0,
           "arrowwidth": 1
          },
          "autotypenumbers": "strict",
          "coloraxis": {
           "colorbar": {
            "outlinewidth": 0,
            "ticks": ""
           }
          },
          "colorscale": {
           "diverging": [
            [
             0,
             "#8e0152"
            ],
            [
             0.1,
             "#c51b7d"
            ],
            [
             0.2,
             "#de77ae"
            ],
            [
             0.3,
             "#f1b6da"
            ],
            [
             0.4,
             "#fde0ef"
            ],
            [
             0.5,
             "#f7f7f7"
            ],
            [
             0.6,
             "#e6f5d0"
            ],
            [
             0.7,
             "#b8e186"
            ],
            [
             0.8,
             "#7fbc41"
            ],
            [
             0.9,
             "#4d9221"
            ],
            [
             1,
             "#276419"
            ]
           ],
           "sequential": [
            [
             0,
             "#0d0887"
            ],
            [
             0.1111111111111111,
             "#46039f"
            ],
            [
             0.2222222222222222,
             "#7201a8"
            ],
            [
             0.3333333333333333,
             "#9c179e"
            ],
            [
             0.4444444444444444,
             "#bd3786"
            ],
            [
             0.5555555555555556,
             "#d8576b"
            ],
            [
             0.6666666666666666,
             "#ed7953"
            ],
            [
             0.7777777777777778,
             "#fb9f3a"
            ],
            [
             0.8888888888888888,
             "#fdca26"
            ],
            [
             1,
             "#f0f921"
            ]
           ],
           "sequentialminus": [
            [
             0,
             "#0d0887"
            ],
            [
             0.1111111111111111,
             "#46039f"
            ],
            [
             0.2222222222222222,
             "#7201a8"
            ],
            [
             0.3333333333333333,
             "#9c179e"
            ],
            [
             0.4444444444444444,
             "#bd3786"
            ],
            [
             0.5555555555555556,
             "#d8576b"
            ],
            [
             0.6666666666666666,
             "#ed7953"
            ],
            [
             0.7777777777777778,
             "#fb9f3a"
            ],
            [
             0.8888888888888888,
             "#fdca26"
            ],
            [
             1,
             "#f0f921"
            ]
           ]
          },
          "colorway": [
           "#636efa",
           "#EF553B",
           "#00cc96",
           "#ab63fa",
           "#FFA15A",
           "#19d3f3",
           "#FF6692",
           "#B6E880",
           "#FF97FF",
           "#FECB52"
          ],
          "font": {
           "color": "#2a3f5f"
          },
          "geo": {
           "bgcolor": "white",
           "lakecolor": "white",
           "landcolor": "#E5ECF6",
           "showlakes": true,
           "showland": true,
           "subunitcolor": "white"
          },
          "hoverlabel": {
           "align": "left"
          },
          "hovermode": "closest",
          "mapbox": {
           "style": "light"
          },
          "paper_bgcolor": "white",
          "plot_bgcolor": "#E5ECF6",
          "polar": {
           "angularaxis": {
            "gridcolor": "white",
            "linecolor": "white",
            "ticks": ""
           },
           "bgcolor": "#E5ECF6",
           "radialaxis": {
            "gridcolor": "white",
            "linecolor": "white",
            "ticks": ""
           }
          },
          "scene": {
           "xaxis": {
            "backgroundcolor": "#E5ECF6",
            "gridcolor": "white",
            "gridwidth": 2,
            "linecolor": "white",
            "showbackground": true,
            "ticks": "",
            "zerolinecolor": "white"
           },
           "yaxis": {
            "backgroundcolor": "#E5ECF6",
            "gridcolor": "white",
            "gridwidth": 2,
            "linecolor": "white",
            "showbackground": true,
            "ticks": "",
            "zerolinecolor": "white"
           },
           "zaxis": {
            "backgroundcolor": "#E5ECF6",
            "gridcolor": "white",
            "gridwidth": 2,
            "linecolor": "white",
            "showbackground": true,
            "ticks": "",
            "zerolinecolor": "white"
           }
          },
          "shapedefaults": {
           "line": {
            "color": "#2a3f5f"
           }
          },
          "ternary": {
           "aaxis": {
            "gridcolor": "white",
            "linecolor": "white",
            "ticks": ""
           },
           "baxis": {
            "gridcolor": "white",
            "linecolor": "white",
            "ticks": ""
           },
           "bgcolor": "#E5ECF6",
           "caxis": {
            "gridcolor": "white",
            "linecolor": "white",
            "ticks": ""
           }
          },
          "title": {
           "x": 0.05
          },
          "xaxis": {
           "automargin": true,
           "gridcolor": "white",
           "linecolor": "white",
           "ticks": "",
           "title": {
            "standoff": 15
           },
           "zerolinecolor": "white",
           "zerolinewidth": 2
          },
          "yaxis": {
           "automargin": true,
           "gridcolor": "white",
           "linecolor": "white",
           "ticks": "",
           "title": {
            "standoff": 15
           },
           "zerolinecolor": "white",
           "zerolinewidth": 2
          }
         }
        }
       }
      },
      "image/png": "[encoded data removed]"
     },
     "metadata": {},
     "output_type": "display_data"
    },
    {
     "data": {
      "text/html": [
       "<p>some html</p>"
      ],
      "text/plain": [
       "<IPython.core.display.HTML object>"
      ]
     },
     "execution_count": 6,
     "metadata": {},
     "output_type": "execute_result"
    }
   ],
   "source": [
    "fig = px.pie(s_by_lang, values=s_by_lang.values, names=s_by_lang.index)\n",
    "fig.show()"
   ]
  },
  {
   "cell_type": "code",
   "execution_count": 7,
   "id": "9b795d9a",
   "metadata": {
    "slideshow": {
     "slide_type": "skip"
    }
   },
   "outputs": [],
   "source": [
    "temp = df.groupby('作者').count().iloc[:,0].sort_values(ascending=0)\n",
    "by_author = temp.to_frame().reset_index()\n",
    "by_author.insert(0,'作者排名',list(by_author.index + 1))"
   ]
  },
  {
   "cell_type": "code",
   "execution_count": 26,
   "id": "887a8b2d",
   "metadata": {
    "slideshow": {
     "slide_type": "skip"
    }
   },
   "outputs": [],
   "source": [
    "by_country_string = df.groupby('country').count().iloc[:,1].sort_values()[:-1]"
   ]
  },
  {
   "cell_type": "code",
   "execution_count": 29,
   "id": "3bec61b9",
   "metadata": {},
   "outputs": [
    {
     "data": {
      "application/vnd.plotly.v1+json": {
       "config": {
        "plotlyServerURL": "https://plot.ly"
       },
       "data": [
        {
         "alignmentgroup": "True",
         "hovertemplate": "x=%{x}<br>country=%{y}<extra></extra>",
         "legendgroup": "",
         "marker": {
          "color": "#636efa",
          "pattern": {
           "shape": ""
          }
         },
         "name": "",
         "offsetgroup": "",
         "orientation": "h",
         "showlegend": false,
         "textposition": "auto",
         "type": "bar",
         "x": [
          1,
          1,
          1,
          1,
          1,
          1,
          1,
          1,
          1,
          1,
          2,
          2,
          2,
          3,
          4,
          5,
          5,
          8,
          18,
          23,
          41
         ],
         "xaxis": "x",
         "y": [
          "阿根廷",
          "捷克",
          "挪",
          "葡",
          "澳",
          "巴西",
          "印",
          "加拿大",
          "以色列",
          "古希腊",
          "俄",
          "白俄",
          "瑞典",
          "哥伦比亚",
          "奥",
          "德",
          "法",
          "意",
          "日",
          "英",
          "美"
         ],
         "yaxis": "y"
        }
       ],
       "layout": {
        "autosize": true,
        "barmode": "relative",
        "legend": {
         "tracegroupgap": 0
        },
        "margin": {
         "t": 60
        },
        "template": {
         "data": {
          "bar": [
           {
            "error_x": {
             "color": "#2a3f5f"
            },
            "error_y": {
             "color": "#2a3f5f"
            },
            "marker": {
             "line": {
              "color": "#E5ECF6",
              "width": 0.5
             },
             "pattern": {
              "fillmode": "overlay",
              "size": 10,
              "solidity": 0.2
             }
            },
            "type": "bar"
           }
          ],
          "barpolar": [
           {
            "marker": {
             "line": {
              "color": "#E5ECF6",
              "width": 0.5
             },
             "pattern": {
              "fillmode": "overlay",
              "size": 10,
              "solidity": 0.2
             }
            },
            "type": "barpolar"
           }
          ],
          "carpet": [
           {
            "aaxis": {
             "endlinecolor": "#2a3f5f",
             "gridcolor": "white",
             "linecolor": "white",
             "minorgridcolor": "white",
             "startlinecolor": "#2a3f5f"
            },
            "baxis": {
             "endlinecolor": "#2a3f5f",
             "gridcolor": "white",
             "linecolor": "white",
             "minorgridcolor": "white",
             "startlinecolor": "#2a3f5f"
            },
            "type": "carpet"
           }
          ],
          "choropleth": [
           {
            "colorbar": {
             "outlinewidth": 0,
             "ticks": ""
            },
            "type": "choropleth"
           }
          ],
          "contour": [
           {
            "colorbar": {
             "outlinewidth": 0,
             "ticks": ""
            },
            "colorscale": [
             [
              0,
              "#0d0887"
             ],
             [
              0.1111111111111111,
              "#46039f"
             ],
             [
              0.2222222222222222,
              "#7201a8"
             ],
             [
              0.3333333333333333,
              "#9c179e"
             ],
             [
              0.4444444444444444,
              "#bd3786"
             ],
             [
              0.5555555555555556,
              "#d8576b"
             ],
             [
              0.6666666666666666,
              "#ed7953"
             ],
             [
              0.7777777777777778,
              "#fb9f3a"
             ],
             [
              0.8888888888888888,
              "#fdca26"
             ],
             [
              1,
              "#f0f921"
             ]
            ],
            "type": "contour"
           }
          ],
          "contourcarpet": [
           {
            "colorbar": {
             "outlinewidth": 0,
             "ticks": ""
            },
            "type": "contourcarpet"
           }
          ],
          "heatmap": [
           {
            "colorbar": {
             "outlinewidth": 0,
             "ticks": ""
            },
            "colorscale": [
             [
              0,
              "#0d0887"
             ],
             [
              0.1111111111111111,
              "#46039f"
             ],
             [
              0.2222222222222222,
              "#7201a8"
             ],
             [
              0.3333333333333333,
              "#9c179e"
             ],
             [
              0.4444444444444444,
              "#bd3786"
             ],
             [
              0.5555555555555556,
              "#d8576b"
             ],
             [
              0.6666666666666666,
              "#ed7953"
             ],
             [
              0.7777777777777778,
              "#fb9f3a"
             ],
             [
              0.8888888888888888,
              "#fdca26"
             ],
             [
              1,
              "#f0f921"
             ]
            ],
            "type": "heatmap"
           }
          ],
          "heatmapgl": [
           {
            "colorbar": {
             "outlinewidth": 0,
             "ticks": ""
            },
            "colorscale": [
             [
              0,
              "#0d0887"
             ],
             [
              0.1111111111111111,
              "#46039f"
             ],
             [
              0.2222222222222222,
              "#7201a8"
             ],
             [
              0.3333333333333333,
              "#9c179e"
             ],
             [
              0.4444444444444444,
              "#bd3786"
             ],
             [
              0.5555555555555556,
              "#d8576b"
             ],
             [
              0.6666666666666666,
              "#ed7953"
             ],
             [
              0.7777777777777778,
              "#fb9f3a"
             ],
             [
              0.8888888888888888,
              "#fdca26"
             ],
             [
              1,
              "#f0f921"
             ]
            ],
            "type": "heatmapgl"
           }
          ],
          "histogram": [
           {
            "marker": {
             "pattern": {
              "fillmode": "overlay",
              "size": 10,
              "solidity": 0.2
             }
            },
            "type": "histogram"
           }
          ],
          "histogram2d": [
           {
            "colorbar": {
             "outlinewidth": 0,
             "ticks": ""
            },
            "colorscale": [
             [
              0,
              "#0d0887"
             ],
             [
              0.1111111111111111,
              "#46039f"
             ],
             [
              0.2222222222222222,
              "#7201a8"
             ],
             [
              0.3333333333333333,
              "#9c179e"
             ],
             [
              0.4444444444444444,
              "#bd3786"
             ],
             [
              0.5555555555555556,
              "#d8576b"
             ],
             [
              0.6666666666666666,
              "#ed7953"
             ],
             [
              0.7777777777777778,
              "#fb9f3a"
             ],
             [
              0.8888888888888888,
              "#fdca26"
             ],
             [
              1,
              "#f0f921"
             ]
            ],
            "type": "histogram2d"
           }
          ],
          "histogram2dcontour": [
           {
            "colorbar": {
             "outlinewidth": 0,
             "ticks": ""
            },
            "colorscale": [
             [
              0,
              "#0d0887"
             ],
             [
              0.1111111111111111,
              "#46039f"
             ],
             [
              0.2222222222222222,
              "#7201a8"
             ],
             [
              0.3333333333333333,
              "#9c179e"
             ],
             [
              0.4444444444444444,
              "#bd3786"
             ],
             [
              0.5555555555555556,
              "#d8576b"
             ],
             [
              0.6666666666666666,
              "#ed7953"
             ],
             [
              0.7777777777777778,
              "#fb9f3a"
             ],
             [
              0.8888888888888888,
              "#fdca26"
             ],
             [
              1,
              "#f0f921"
             ]
            ],
            "type": "histogram2dcontour"
           }
          ],
          "mesh3d": [
           {
            "colorbar": {
             "outlinewidth": 0,
             "ticks": ""
            },
            "type": "mesh3d"
           }
          ],
          "parcoords": [
           {
            "line": {
             "colorbar": {
              "outlinewidth": 0,
              "ticks": ""
             }
            },
            "type": "parcoords"
           }
          ],
          "pie": [
           {
            "automargin": true,
            "type": "pie"
           }
          ],
          "scatter": [
           {
            "fillpattern": {
             "fillmode": "overlay",
             "size": 10,
             "solidity": 0.2
            },
            "type": "scatter"
           }
          ],
          "scatter3d": [
           {
            "line": {
             "colorbar": {
              "outlinewidth": 0,
              "ticks": ""
             }
            },
            "marker": {
             "colorbar": {
              "outlinewidth": 0,
              "ticks": ""
             }
            },
            "type": "scatter3d"
           }
          ],
          "scattercarpet": [
           {
            "marker": {
             "colorbar": {
              "outlinewidth": 0,
              "ticks": ""
             }
            },
            "type": "scattercarpet"
           }
          ],
          "scattergeo": [
           {
            "marker": {
             "colorbar": {
              "outlinewidth": 0,
              "ticks": ""
             }
            },
            "type": "scattergeo"
           }
          ],
          "scattergl": [
           {
            "marker": {
             "colorbar": {
              "outlinewidth": 0,
              "ticks": ""
             }
            },
            "type": "scattergl"
           }
          ],
          "scattermapbox": [
           {
            "marker": {
             "colorbar": {
              "outlinewidth": 0,
              "ticks": ""
             }
            },
            "type": "scattermapbox"
           }
          ],
          "scatterpolar": [
           {
            "marker": {
             "colorbar": {
              "outlinewidth": 0,
              "ticks": ""
             }
            },
            "type": "scatterpolar"
           }
          ],
          "scatterpolargl": [
           {
            "marker": {
             "colorbar": {
              "outlinewidth": 0,
              "ticks": ""
             }
            },
            "type": "scatterpolargl"
           }
          ],
          "scatterternary": [
           {
            "marker": {
             "colorbar": {
              "outlinewidth": 0,
              "ticks": ""
             }
            },
            "type": "scatterternary"
           }
          ],
          "surface": [
           {
            "colorbar": {
             "outlinewidth": 0,
             "ticks": ""
            },
            "colorscale": [
             [
              0,
              "#0d0887"
             ],
             [
              0.1111111111111111,
              "#46039f"
             ],
             [
              0.2222222222222222,
              "#7201a8"
             ],
             [
              0.3333333333333333,
              "#9c179e"
             ],
             [
              0.4444444444444444,
              "#bd3786"
             ],
             [
              0.5555555555555556,
              "#d8576b"
             ],
             [
              0.6666666666666666,
              "#ed7953"
             ],
             [
              0.7777777777777778,
              "#fb9f3a"
             ],
             [
              0.8888888888888888,
              "#fdca26"
             ],
             [
              1,
              "#f0f921"
             ]
            ],
            "type": "surface"
           }
          ],
          "table": [
           {
            "cells": {
             "fill": {
              "color": "#EBF0F8"
             },
             "line": {
              "color": "white"
             }
            },
            "header": {
             "fill": {
              "color": "#C8D4E3"
             },
             "line": {
              "color": "white"
             }
            },
            "type": "table"
           }
          ]
         },
         "layout": {
          "annotationdefaults": {
           "arrowcolor": "#2a3f5f",
           "arrowhead": 0,
           "arrowwidth": 1
          },
          "autotypenumbers": "strict",
          "coloraxis": {
           "colorbar": {
            "outlinewidth": 0,
            "ticks": ""
           }
          },
          "colorscale": {
           "diverging": [
            [
             0,
             "#8e0152"
            ],
            [
             0.1,
             "#c51b7d"
            ],
            [
             0.2,
             "#de77ae"
            ],
            [
             0.3,
             "#f1b6da"
            ],
            [
             0.4,
             "#fde0ef"
            ],
            [
             0.5,
             "#f7f7f7"
            ],
            [
             0.6,
             "#e6f5d0"
            ],
            [
             0.7,
             "#b8e186"
            ],
            [
             0.8,
             "#7fbc41"
            ],
            [
             0.9,
             "#4d9221"
            ],
            [
             1,
             "#276419"
            ]
           ],
           "sequential": [
            [
             0,
             "#0d0887"
            ],
            [
             0.1111111111111111,
             "#46039f"
            ],
            [
             0.2222222222222222,
             "#7201a8"
            ],
            [
             0.3333333333333333,
             "#9c179e"
            ],
            [
             0.4444444444444444,
             "#bd3786"
            ],
            [
             0.5555555555555556,
             "#d8576b"
            ],
            [
             0.6666666666666666,
             "#ed7953"
            ],
            [
             0.7777777777777778,
             "#fb9f3a"
            ],
            [
             0.8888888888888888,
             "#fdca26"
            ],
            [
             1,
             "#f0f921"
            ]
           ],
           "sequentialminus": [
            [
             0,
             "#0d0887"
            ],
            [
             0.1111111111111111,
             "#46039f"
            ],
            [
             0.2222222222222222,
             "#7201a8"
            ],
            [
             0.3333333333333333,
             "#9c179e"
            ],
            [
             0.4444444444444444,
             "#bd3786"
            ],
            [
             0.5555555555555556,
             "#d8576b"
            ],
            [
             0.6666666666666666,
             "#ed7953"
            ],
            [
             0.7777777777777778,
             "#fb9f3a"
            ],
            [
             0.8888888888888888,
             "#fdca26"
            ],
            [
             1,
             "#f0f921"
            ]
           ]
          },
          "colorway": [
           "#636efa",
           "#EF553B",
           "#00cc96",
           "#ab63fa",
           "#FFA15A",
           "#19d3f3",
           "#FF6692",
           "#B6E880",
           "#FF97FF",
           "#FECB52"
          ],
          "font": {
           "color": "#2a3f5f"
          },
          "geo": {
           "bgcolor": "white",
           "lakecolor": "white",
           "landcolor": "#E5ECF6",
           "showlakes": true,
           "showland": true,
           "subunitcolor": "white"
          },
          "hoverlabel": {
           "align": "left"
          },
          "hovermode": "closest",
          "mapbox": {
           "style": "light"
          },
          "paper_bgcolor": "white",
          "plot_bgcolor": "#E5ECF6",
          "polar": {
           "angularaxis": {
            "gridcolor": "white",
            "linecolor": "white",
            "ticks": ""
           },
           "bgcolor": "#E5ECF6",
           "radialaxis": {
            "gridcolor": "white",
            "linecolor": "white",
            "ticks": ""
           }
          },
          "scene": {
           "xaxis": {
            "backgroundcolor": "#E5ECF6",
            "gridcolor": "white",
            "gridwidth": 2,
            "linecolor": "white",
            "showbackground": true,
            "ticks": "",
            "zerolinecolor": "white"
           },
           "yaxis": {
            "backgroundcolor": "#E5ECF6",
            "gridcolor": "white",
            "gridwidth": 2,
            "linecolor": "white",
            "showbackground": true,
            "ticks": "",
            "zerolinecolor": "white"
           },
           "zaxis": {
            "backgroundcolor": "#E5ECF6",
            "gridcolor": "white",
            "gridwidth": 2,
            "linecolor": "white",
            "showbackground": true,
            "ticks": "",
            "zerolinecolor": "white"
           }
          },
          "shapedefaults": {
           "line": {
            "color": "#2a3f5f"
           }
          },
          "ternary": {
           "aaxis": {
            "gridcolor": "white",
            "linecolor": "white",
            "ticks": ""
           },
           "baxis": {
            "gridcolor": "white",
            "linecolor": "white",
            "ticks": ""
           },
           "bgcolor": "#E5ECF6",
           "caxis": {
            "gridcolor": "white",
            "linecolor": "white",
            "ticks": ""
           }
          },
          "title": {
           "x": 0.05
          },
          "xaxis": {
           "automargin": true,
           "gridcolor": "white",
           "linecolor": "white",
           "ticks": "",
           "title": {
            "standoff": 15
           },
           "zerolinecolor": "white",
           "zerolinewidth": 2
          },
          "yaxis": {
           "automargin": true,
           "gridcolor": "white",
           "linecolor": "white",
           "ticks": "",
           "title": {
            "standoff": 15
           },
           "zerolinecolor": "white",
           "zerolinewidth": 2
          }
         }
        },
        "xaxis": {
         "anchor": "y",
         "autorange": true,
         "domain": [
          0,
          1
         ],
         "range": [
          0,
          43.1578947368421
         ],
         "title": {
          "text": "x"
         },
         "type": "linear"
        },
        "yaxis": {
         "anchor": "x",
         "autorange": true,
         "domain": [
          0,
          1
         ],
         "range": [
          -0.5,
          20.5
         ],
         "title": {
          "text": "country"
         },
         "type": "category"
        }
       }
      },
      "image/png": "[encoded data removed]"
     },
     "metadata": {},
     "output_type": "display_data"
    }
   ],
   "source": [
    "fig = px.bar(by_country_string, x=by_country_string.values, y=by_country_string.index, height=600)\n",
    "\n",
    "fig.show()"
   ]
  },
  {
   "cell_type": "code",
   "execution_count": 8,
   "id": "063232a2-7add-40b1-8e6b-de74dcaeb4cf",
   "metadata": {
    "slideshow": {
     "slide_type": "slide"
    },
    "tags": []
   },
   "outputs": [
    {
     "data": {
      "text/html": [
       "<style type=\"text/css\">\n",
       "</style>\n",
       "<table id=\"T_9908e\">\n",
       "  <thead>\n",
       "    <tr>\n",
       "      <th id=\"T_9908e_level0_col0\" class=\"col_heading level0 col0\" >作者排名</th>\n",
       "      <th id=\"T_9908e_level0_col1\" class=\"col_heading level0 col1\" >作者</th>\n",
       "      <th id=\"T_9908e_level0_col2\" class=\"col_heading level0 col2\" >序号</th>\n",
       "    </tr>\n",
       "  </thead>\n",
       "  <tbody>\n",
       "    <tr>\n",
       "      <td id=\"T_9908e_row0_col0\" class=\"data row0 col0\" >1</td>\n",
       "      <td id=\"T_9908e_row0_col1\" class=\"data row0 col1\" >三毛</td>\n",
       "      <td id=\"T_9908e_row0_col2\" class=\"data row0 col2\" >7</td>\n",
       "    </tr>\n",
       "    <tr>\n",
       "      <td id=\"T_9908e_row1_col0\" class=\"data row1 col0\" >2</td>\n",
       "      <td id=\"T_9908e_row1_col1\" class=\"data row1 col1\" >金庸</td>\n",
       "      <td id=\"T_9908e_row1_col2\" class=\"data row1 col2\" >6</td>\n",
       "    </tr>\n",
       "    <tr>\n",
       "      <td id=\"T_9908e_row2_col0\" class=\"data row2 col0\" >3</td>\n",
       "      <td id=\"T_9908e_row2_col1\" class=\"data row2 col1\" >张爱玲</td>\n",
       "      <td id=\"T_9908e_row2_col2\" class=\"data row2 col2\" >5</td>\n",
       "    </tr>\n",
       "    <tr>\n",
       "      <td id=\"T_9908e_row3_col0\" class=\"data row3 col0\" >4</td>\n",
       "      <td id=\"T_9908e_row3_col1\" class=\"data row3 col1\" >鲁迅</td>\n",
       "      <td id=\"T_9908e_row3_col2\" class=\"data row3 col2\" >5</td>\n",
       "    </tr>\n",
       "    <tr>\n",
       "      <td id=\"T_9908e_row4_col0\" class=\"data row4 col0\" >5</td>\n",
       "      <td id=\"T_9908e_row4_col1\" class=\"data row4 col1\" >王小波</td>\n",
       "      <td id=\"T_9908e_row4_col2\" class=\"data row4 col2\" >5</td>\n",
       "    </tr>\n",
       "    <tr>\n",
       "      <td id=\"T_9908e_row5_col0\" class=\"data row5 col0\" >6</td>\n",
       "      <td id=\"T_9908e_row5_col1\" class=\"data row5 col1\" >[奥] 斯蒂芬·茨威格</td>\n",
       "      <td id=\"T_9908e_row5_col2\" class=\"data row5 col2\" >4</td>\n",
       "    </tr>\n",
       "    <tr>\n",
       "      <td id=\"T_9908e_row6_col0\" class=\"data row6 col0\" >7</td>\n",
       "      <td id=\"T_9908e_row6_col1\" class=\"data row6 col1\" >[日] 东野圭吾</td>\n",
       "      <td id=\"T_9908e_row6_col2\" class=\"data row6 col2\" >4</td>\n",
       "    </tr>\n",
       "    <tr>\n",
       "      <td id=\"T_9908e_row7_col0\" class=\"data row7 col0\" >8</td>\n",
       "      <td id=\"T_9908e_row7_col1\" class=\"data row7 col1\" >龙应台</td>\n",
       "      <td id=\"T_9908e_row7_col2\" class=\"data row7 col2\" >4</td>\n",
       "    </tr>\n",
       "    <tr>\n",
       "      <td id=\"T_9908e_row8_col0\" class=\"data row8 col0\" >9</td>\n",
       "      <td id=\"T_9908e_row8_col1\" class=\"data row8 col1\" >林达</td>\n",
       "      <td id=\"T_9908e_row8_col2\" class=\"data row8 col2\" >4</td>\n",
       "    </tr>\n",
       "    <tr>\n",
       "      <td id=\"T_9908e_row9_col0\" class=\"data row9 col0\" >10</td>\n",
       "      <td id=\"T_9908e_row9_col1\" class=\"data row9 col1\" >[意] 埃莱娜·费兰特</td>\n",
       "      <td id=\"T_9908e_row9_col2\" class=\"data row9 col2\" >4</td>\n",
       "    </tr>\n",
       "    <tr>\n",
       "      <td id=\"T_9908e_row10_col0\" class=\"data row10 col0\" >11</td>\n",
       "      <td id=\"T_9908e_row10_col1\" class=\"data row10 col1\" >老舍</td>\n",
       "      <td id=\"T_9908e_row10_col2\" class=\"data row10 col2\" >3</td>\n",
       "    </tr>\n",
       "    <tr>\n",
       "      <td id=\"T_9908e_row11_col0\" class=\"data row11 col0\" >12</td>\n",
       "      <td id=\"T_9908e_row11_col1\" class=\"data row11 col1\" >[意] 伊塔洛·卡尔维诺</td>\n",
       "      <td id=\"T_9908e_row11_col2\" class=\"data row11 col2\" >3</td>\n",
       "    </tr>\n",
       "    <tr>\n",
       "      <td id=\"T_9908e_row12_col0\" class=\"data row12 col0\" >13</td>\n",
       "      <td id=\"T_9908e_row12_col1\" class=\"data row12 col1\" >[哥伦比亚] 加西亚·马尔克斯</td>\n",
       "      <td id=\"T_9908e_row12_col2\" class=\"data row12 col2\" >3</td>\n",
       "    </tr>\n",
       "    <tr>\n",
       "      <td id=\"T_9908e_row13_col0\" class=\"data row13 col0\" >14</td>\n",
       "      <td id=\"T_9908e_row13_col1\" class=\"data row13 col1\" >李娟</td>\n",
       "      <td id=\"T_9908e_row13_col2\" class=\"data row13 col2\" >3</td>\n",
       "    </tr>\n",
       "    <tr>\n",
       "      <td id=\"T_9908e_row14_col0\" class=\"data row14 col0\" >15</td>\n",
       "      <td id=\"T_9908e_row14_col1\" class=\"data row14 col1\" >[英] 阿加莎·克里斯蒂</td>\n",
       "      <td id=\"T_9908e_row14_col2\" class=\"data row14 col2\" >3</td>\n",
       "    </tr>\n",
       "    <tr>\n",
       "      <td id=\"T_9908e_row15_col0\" class=\"data row15 col0\" >16</td>\n",
       "      <td id=\"T_9908e_row15_col1\" class=\"data row15 col1\" >古龙</td>\n",
       "      <td id=\"T_9908e_row15_col2\" class=\"data row15 col2\" >3</td>\n",
       "    </tr>\n",
       "    <tr>\n",
       "      <td id=\"T_9908e_row16_col0\" class=\"data row16 col0\" >17</td>\n",
       "      <td id=\"T_9908e_row16_col1\" class=\"data row16 col1\" >[美] 艾萨克·阿西莫夫</td>\n",
       "      <td id=\"T_9908e_row16_col2\" class=\"data row16 col2\" >2</td>\n",
       "    </tr>\n",
       "    <tr>\n",
       "      <td id=\"T_9908e_row17_col0\" class=\"data row17 col0\" >18</td>\n",
       "      <td id=\"T_9908e_row17_col1\" class=\"data row17 col1\" >刘慈欣</td>\n",
       "      <td id=\"T_9908e_row17_col2\" class=\"data row17 col2\" >2</td>\n",
       "    </tr>\n",
       "    <tr>\n",
       "      <td id=\"T_9908e_row18_col0\" class=\"data row18 col0\" >19</td>\n",
       "      <td id=\"T_9908e_row18_col1\" class=\"data row18 col1\" >八月长安</td>\n",
       "      <td id=\"T_9908e_row18_col2\" class=\"data row18 col2\" >2</td>\n",
       "    </tr>\n",
       "    <tr>\n",
       "      <td id=\"T_9908e_row19_col0\" class=\"data row19 col0\" >20</td>\n",
       "      <td id=\"T_9908e_row19_col1\" class=\"data row19 col1\" >[美] 卡勒德·胡赛尼</td>\n",
       "      <td id=\"T_9908e_row19_col2\" class=\"data row19 col2\" >2</td>\n",
       "    </tr>\n",
       "    <tr>\n",
       "      <td id=\"T_9908e_row20_col0\" class=\"data row20 col0\" >21</td>\n",
       "      <td id=\"T_9908e_row20_col1\" class=\"data row20 col1\" >[日] 村上春树</td>\n",
       "      <td id=\"T_9908e_row20_col2\" class=\"data row20 col2\" >2</td>\n",
       "    </tr>\n",
       "    <tr>\n",
       "      <td id=\"T_9908e_row21_col0\" class=\"data row21 col0\" >22</td>\n",
       "      <td id=\"T_9908e_row21_col1\" class=\"data row21 col1\" >刘瑜</td>\n",
       "      <td id=\"T_9908e_row21_col2\" class=\"data row21 col2\" >2</td>\n",
       "    </tr>\n",
       "    <tr>\n",
       "      <td id=\"T_9908e_row22_col0\" class=\"data row22 col0\" >23</td>\n",
       "      <td id=\"T_9908e_row22_col1\" class=\"data row22 col1\" >白先勇</td>\n",
       "      <td id=\"T_9908e_row22_col2\" class=\"data row22 col2\" >2</td>\n",
       "    </tr>\n",
       "    <tr>\n",
       "      <td id=\"T_9908e_row23_col0\" class=\"data row23 col0\" >24</td>\n",
       "      <td id=\"T_9908e_row23_col1\" class=\"data row23 col1\" >余华</td>\n",
       "      <td id=\"T_9908e_row23_col2\" class=\"data row23 col2\" >2</td>\n",
       "    </tr>\n",
       "    <tr>\n",
       "      <td id=\"T_9908e_row24_col0\" class=\"data row24 col0\" >25</td>\n",
       "      <td id=\"T_9908e_row24_col1\" class=\"data row24 col1\" >[法] 阿尔贝·加缪</td>\n",
       "      <td id=\"T_9908e_row24_col2\" class=\"data row24 col2\" >2</td>\n",
       "    </tr>\n",
       "    <tr>\n",
       "      <td id=\"T_9908e_row25_col0\" class=\"data row25 col0\" >26</td>\n",
       "      <td id=\"T_9908e_row25_col1\" class=\"data row25 col1\" >[美] 彼得·海斯勒</td>\n",
       "      <td id=\"T_9908e_row25_col2\" class=\"data row25 col2\" >2</td>\n",
       "    </tr>\n",
       "    <tr>\n",
       "      <td id=\"T_9908e_row26_col0\" class=\"data row26 col0\" >27</td>\n",
       "      <td id=\"T_9908e_row26_col1\" class=\"data row26 col1\" >严歌苓</td>\n",
       "      <td id=\"T_9908e_row26_col2\" class=\"data row26 col2\" >2</td>\n",
       "    </tr>\n",
       "    <tr>\n",
       "      <td id=\"T_9908e_row27_col0\" class=\"data row27 col0\" >28</td>\n",
       "      <td id=\"T_9908e_row27_col1\" class=\"data row27 col1\" >[英] 乔治·奥威尔</td>\n",
       "      <td id=\"T_9908e_row27_col2\" class=\"data row27 col2\" >2</td>\n",
       "    </tr>\n",
       "    <tr>\n",
       "      <td id=\"T_9908e_row28_col0\" class=\"data row28 col0\" >29</td>\n",
       "      <td id=\"T_9908e_row28_col1\" class=\"data row28 col1\" >[德] 赫尔曼·黑塞</td>\n",
       "      <td id=\"T_9908e_row28_col2\" class=\"data row28 col2\" >2</td>\n",
       "    </tr>\n",
       "    <tr>\n",
       "      <td id=\"T_9908e_row29_col0\" class=\"data row29 col0\" >30</td>\n",
       "      <td id=\"T_9908e_row29_col1\" class=\"data row29 col1\" >[英] 毛姆</td>\n",
       "      <td id=\"T_9908e_row29_col2\" class=\"data row29 col2\" >2</td>\n",
       "    </tr>\n",
       "    <tr>\n",
       "      <td id=\"T_9908e_row30_col0\" class=\"data row30 col0\" >31</td>\n",
       "      <td id=\"T_9908e_row30_col1\" class=\"data row30 col1\" >[英] 肯·福莱特</td>\n",
       "      <td id=\"T_9908e_row30_col2\" class=\"data row30 col2\" >2</td>\n",
       "    </tr>\n",
       "  </tbody>\n",
       "</table>\n"
      ],
      "text/plain": [
       "<pandas.io.formats.style.Styler at 0x7fdd7b187970>"
      ]
     },
     "execution_count": 8,
     "metadata": {},
     "output_type": "execute_result"
    }
   ],
   "source": [
    "by_author.head(31).style.hide(axis='index')"
   ]
  },
  {
   "cell_type": "code",
   "execution_count": 9,
   "id": "a4eee529-6f0a-4c32-8a51-8392037e4e53",
   "metadata": {
    "slideshow": {
     "slide_type": "skip"
    },
    "tags": []
   },
   "outputs": [
    {
     "data": {
      "text/html": [
       "<html>\n",
       "<link href=\"https://cdn.jsdelivr.net/npm/bootstrap@5.3.0-alpha1/dist/css/bootstrap.min.css\" rel=\"stylesheet\" integrity=\"sha384-GLhlTQ8iRABdZLl6O3oVMWSktQOp6b7In1Zl3/Jr59b6EGGoI1aFkw7cmDA6j6gD\" crossorigin=\"anonymous\">\n",
       "<script src=\"https://cdn.jsdelivr.net/npm/bootstrap@5.3.0-alpha1/dist/js/bootstrap.bundle.min.js\" integrity=\"sha384-/mhDoLbDldZc3qpsJHpLogda//BVZbgYuw6kof4u2FrCedxOtgRZDTHgHUhOCVim\" crossorigin=\"anonymous\"></script>\n",
       "</html>\n"
      ],
      "text/plain": [
       "<IPython.core.display.HTML object>"
      ]
     },
     "metadata": {},
     "output_type": "display_data"
    }
   ],
   "source": [
    "%%html\n",
    "<html>\n",
    "<link href=\"https://cdn.jsdelivr.net/npm/bootstrap@5.3.0-alpha1/dist/css/bootstrap.min.css\" rel=\"stylesheet\" integrity=\"sha384-GLhlTQ8iRABdZLl6O3oVMWSktQOp6b7In1Zl3/Jr59b6EGGoI1aFkw7cmDA6j6gD\" crossorigin=\"anonymous\">\n",
    "<script src=\"https://cdn.jsdelivr.net/npm/bootstrap@5.3.0-alpha1/dist/js/bootstrap.bundle.min.js\" integrity=\"sha384-/mhDoLbDldZc3qpsJHpLogda//BVZbgYuw6kof4u2FrCedxOtgRZDTHgHUhOCVim\" crossorigin=\"anonymous\"></script>\n",
    "</html>"
   ]
  },
  {
   "cell_type": "code",
   "execution_count": 11,
   "id": "77a06628-4264-4f56-88c7-9795149f5c21",
   "metadata": {
    "slideshow": {
     "slide_type": "skip"
    },
    "tags": []
   },
   "outputs": [],
   "source": [
    "by_author_sum = by_author.groupby('序号').count()"
   ]
  },
  {
   "cell_type": "code",
   "execution_count": 12,
   "id": "68f42ea4-89e4-4ae7-8771-5cea5903c864",
   "metadata": {
    "slideshow": {
     "slide_type": "skip"
    },
    "tags": []
   },
   "outputs": [],
   "source": [
    "by_author_sum['card'] = [f'''\n",
    "<div class=\"card text-center\">\n",
    "  <div class=\"h3 card-header bg-primary\">\n",
    "    上榜{num}部\n",
    "  </div>\n",
    "  <div class=\"card-body bg-secondary\">\n",
    "    <p class=\"text-center display-4\">{writer}<br>人</p>\n",
    "  </div>\n",
    "</div> \n",
    "''' for num, writer in zip(by_author_sum.index, by_author_sum['作者'])]"
   ]
  },
  {
   "cell_type": "code",
   "execution_count": 16,
   "id": "1e396f32-bc33-4a23-b391-b2192668489c",
   "metadata": {
    "slideshow": {
     "slide_type": "skip"
    },
    "tags": []
   },
   "outputs": [],
   "source": [
    "ss2 = '<div class=\"card-group\">'+''.join(list(by_author_sum.sort_index(ascending= False).iloc[:,2]))+'</div>'"
   ]
  },
  {
   "cell_type": "code",
   "execution_count": 17,
   "id": "6d86daed-0301-4e27-9509-949fad0c4f70",
   "metadata": {
    "slideshow": {
     "slide_type": "slide"
    },
    "tags": []
   },
   "outputs": [
    {
     "data": {
      "text/html": [
       "<div class=\"card-group\">\n",
       "<div class=\"card text-center\">\n",
       "  <div class=\"h3 card-header bg-primary\">\n",
       "    上榜7部\n",
       "  </div>\n",
       "  <div class=\"card-body bg-secondary\">\n",
       "    <p class=\"text-center display-4\">1<br>人</p>\n",
       "  </div>\n",
       "</div> \n",
       "\n",
       "<div class=\"card text-center\">\n",
       "  <div class=\"h3 card-header bg-primary\">\n",
       "    上榜6部\n",
       "  </div>\n",
       "  <div class=\"card-body bg-secondary\">\n",
       "    <p class=\"text-center display-4\">1<br>人</p>\n",
       "  </div>\n",
       "</div> \n",
       "\n",
       "<div class=\"card text-center\">\n",
       "  <div class=\"h3 card-header bg-primary\">\n",
       "    上榜5部\n",
       "  </div>\n",
       "  <div class=\"card-body bg-secondary\">\n",
       "    <p class=\"text-center display-4\">3<br>人</p>\n",
       "  </div>\n",
       "</div> \n",
       "\n",
       "<div class=\"card text-center\">\n",
       "  <div class=\"h3 card-header bg-primary\">\n",
       "    上榜4部\n",
       "  </div>\n",
       "  <div class=\"card-body bg-secondary\">\n",
       "    <p class=\"text-center display-4\">5<br>人</p>\n",
       "  </div>\n",
       "</div> \n",
       "\n",
       "<div class=\"card text-center\">\n",
       "  <div class=\"h3 card-header bg-primary\">\n",
       "    上榜3部\n",
       "  </div>\n",
       "  <div class=\"card-body bg-secondary\">\n",
       "    <p class=\"text-center display-4\">6<br>人</p>\n",
       "  </div>\n",
       "</div> \n",
       "\n",
       "<div class=\"card text-center\">\n",
       "  <div class=\"h3 card-header bg-primary\">\n",
       "    上榜2部\n",
       "  </div>\n",
       "  <div class=\"card-body bg-secondary\">\n",
       "    <p class=\"text-center display-4\">15<br>人</p>\n",
       "  </div>\n",
       "</div> \n",
       "\n",
       "<div class=\"card text-center\">\n",
       "  <div class=\"h3 card-header bg-primary\">\n",
       "    上榜1部\n",
       "  </div>\n",
       "  <div class=\"card-body bg-secondary\">\n",
       "    <p class=\"text-center display-4\">152<br>人</p>\n",
       "  </div>\n",
       "</div> \n",
       "</div>"
      ],
      "text/plain": [
       "<IPython.core.display.HTML object>"
      ]
     },
     "execution_count": 17,
     "metadata": {},
     "output_type": "execute_result"
    }
   ],
   "source": [
    "HTML(ss2)"
   ]
  },
  {
   "cell_type": "markdown",
   "id": "5f930f6d-649c-4b4d-9025-7930658c8009",
   "metadata": {},
   "source": [
    "# 把前几名的作品显示出来\n"
   ]
  },
  {
   "cell_type": "code",
   "execution_count": 18,
   "id": "4d5adae7-4961-4fbb-8db2-ec567a459fd1",
   "metadata": {
    "slideshow": {
     "slide_type": "skip"
    },
    "tags": []
   },
   "outputs": [],
   "source": [
    "top10 = by_author.head(10).copy()\n",
    "\n",
    "top10['wcard'] = [f'''\n",
    "<div class=\"card text-center\" >\n",
    "  <div class=\"card-body bg-secondary\">\n",
    "    <h1 class=\"card-title\">{author}</h1>\n",
    "    <h3 class=\"card-text text-center\">上榜{bknum}部作品</h3>\n",
    "    <a href=\"#\" class=\"btn btn-primary\">作家榜第{rank}名</a>\n",
    "  </div>\n",
    "</div>\n",
    "''' for author, bknum, rank in zip( top10['作者'], top10['序号'], top10['作者排名'])]\n",
    "\n",
    "bclist = []\n",
    "for i in list(top10['作者']):\n",
    "    s = '<div class=\"card-group\">'+''.join(list(df[df['作者']==i]['bcard2']))+'</div>'\n",
    "    bclist.append(s)\n",
    "    \n",
    "top10['bcard'] = bclist\n",
    "\n",
    "top10['show'] = top10['wcard'] + top10['bcard']"
   ]
  },
  {
   "cell_type": "code",
   "execution_count": 19,
   "id": "45511ada-d193-4be4-b901-3cc35fda7e49",
   "metadata": {
    "slideshow": {
     "slide_type": "slide"
    },
    "tags": []
   },
   "outputs": [
    {
     "data": {
      "text/html": [
       "\n",
       "<div class=\"card text-center\" >\n",
       "  <div class=\"card-body bg-secondary\">\n",
       "    <h1 class=\"card-title\">三毛</h1>\n",
       "    <h3 class=\"card-text text-center\">上榜7部作品</h3>\n",
       "    <a href=\"#\" class=\"btn btn-primary\">作家榜第1名</a>\n",
       "  </div>\n",
       "</div>\n",
       "<div class=\"card-group\">\n",
       "<div class=\"card text-center\">\n",
       "  <div class=\"card-body\">\n",
       "    <h3 class=\"card-title\">撒哈拉的故事</h3>\n",
       "    <h5 class=\"card-text\">豆瓣分9.2</h5>\n",
       "  </div>\n",
       "  <div class=\"card-footer text-muted\">\n",
       "    排名第13\n",
       "  </div>\n",
       "</div>\n",
       "\n",
       "<div class=\"card text-center\">\n",
       "  <div class=\"card-body\">\n",
       "    <h3 class=\"card-title\">哭泣的骆驼</h3>\n",
       "    <h5 class=\"card-text\">豆瓣分8.9</h5>\n",
       "  </div>\n",
       "  <div class=\"card-footer text-muted\">\n",
       "    排名第59\n",
       "  </div>\n",
       "</div>\n",
       "\n",
       "<div class=\"card text-center\">\n",
       "  <div class=\"card-body\">\n",
       "    <h3 class=\"card-title\">梦里花落知多少</h3>\n",
       "    <h5 class=\"card-text\">豆瓣分8.8</h5>\n",
       "  </div>\n",
       "  <div class=\"card-footer text-muted\">\n",
       "    排名第90\n",
       "  </div>\n",
       "</div>\n",
       "\n",
       "<div class=\"card text-center\">\n",
       "  <div class=\"card-body\">\n",
       "    <h3 class=\"card-title\">万水千山走遍</h3>\n",
       "    <h5 class=\"card-text\">豆瓣分8.8</h5>\n",
       "  </div>\n",
       "  <div class=\"card-footer text-muted\">\n",
       "    排名第124\n",
       "  </div>\n",
       "</div>\n",
       "\n",
       "<div class=\"card text-center\">\n",
       "  <div class=\"card-body\">\n",
       "    <h3 class=\"card-title\">温柔的夜</h3>\n",
       "    <h5 class=\"card-text\">豆瓣分9.1</h5>\n",
       "  </div>\n",
       "  <div class=\"card-footer text-muted\">\n",
       "    排名第156\n",
       "  </div>\n",
       "</div>\n",
       "\n",
       "<div class=\"card text-center\">\n",
       "  <div class=\"card-body\">\n",
       "    <h3 class=\"card-title\">雨季不再来</h3>\n",
       "    <h5 class=\"card-text\">豆瓣分8.7</h5>\n",
       "  </div>\n",
       "  <div class=\"card-footer text-muted\">\n",
       "    排名第165\n",
       "  </div>\n",
       "</div>\n",
       "\n",
       "<div class=\"card text-center\">\n",
       "  <div class=\"card-body\">\n",
       "    <h3 class=\"card-title\">稻草人手记</h3>\n",
       "    <h5 class=\"card-text\">豆瓣分8.9</h5>\n",
       "  </div>\n",
       "  <div class=\"card-footer text-muted\">\n",
       "    排名第222\n",
       "  </div>\n",
       "</div>\n",
       "</div>"
      ],
      "text/plain": [
       "<IPython.core.display.HTML object>"
      ]
     },
     "execution_count": 19,
     "metadata": {},
     "output_type": "execute_result"
    }
   ],
   "source": [
    "HTML(top10['show'][0])"
   ]
  },
  {
   "cell_type": "code",
   "execution_count": 21,
   "id": "ee9e4d8c-dbab-42ff-9b94-8c63906485b0",
   "metadata": {
    "slideshow": {
     "slide_type": "slide"
    },
    "tags": []
   },
   "outputs": [
    {
     "data": {
      "text/html": [
       "\n",
       "<div class=\"card text-center\" >\n",
       "  <div class=\"card-body bg-secondary\">\n",
       "    <h1 class=\"card-title\">金庸</h1>\n",
       "    <h3 class=\"card-text text-center\">上榜6部作品</h3>\n",
       "    <a href=\"#\" class=\"btn btn-primary\">作家榜第2名</a>\n",
       "  </div>\n",
       "</div>\n",
       "<div class=\"card-group\">\n",
       "<div class=\"card text-center\">\n",
       "  <div class=\"card-body\">\n",
       "    <h3 class=\"card-title\">天龙八部</h3>\n",
       "    <h5 class=\"card-text\">豆瓣分9.1</h5>\n",
       "  </div>\n",
       "  <div class=\"card-footer text-muted\">\n",
       "    排名第14\n",
       "  </div>\n",
       "</div>\n",
       "\n",
       "<div class=\"card text-center\">\n",
       "  <div class=\"card-body\">\n",
       "    <h3 class=\"card-title\">笑傲江湖（全四册）</h3>\n",
       "    <h5 class=\"card-text\">豆瓣分9.0</h5>\n",
       "  </div>\n",
       "  <div class=\"card-footer text-muted\">\n",
       "    排名第27\n",
       "  </div>\n",
       "</div>\n",
       "\n",
       "<div class=\"card text-center\">\n",
       "  <div class=\"card-body\">\n",
       "    <h3 class=\"card-title\">射雕英雄传（全四册）</h3>\n",
       "    <h5 class=\"card-text\">豆瓣分9.0</h5>\n",
       "  </div>\n",
       "  <div class=\"card-footer text-muted\">\n",
       "    排名第42\n",
       "  </div>\n",
       "</div>\n",
       "\n",
       "<div class=\"card text-center\">\n",
       "  <div class=\"card-body\">\n",
       "    <h3 class=\"card-title\">神雕侠侣</h3>\n",
       "    <h5 class=\"card-text\">豆瓣分8.9</h5>\n",
       "  </div>\n",
       "  <div class=\"card-footer text-muted\">\n",
       "    排名第51\n",
       "  </div>\n",
       "</div>\n",
       "\n",
       "<div class=\"card text-center\">\n",
       "  <div class=\"card-body\">\n",
       "    <h3 class=\"card-title\">鹿鼎记（全五册）</h3>\n",
       "    <h5 class=\"card-text\">豆瓣分8.8</h5>\n",
       "  </div>\n",
       "  <div class=\"card-footer text-muted\">\n",
       "    排名第89\n",
       "  </div>\n",
       "</div>\n",
       "\n",
       "<div class=\"card text-center\">\n",
       "  <div class=\"card-body\">\n",
       "    <h3 class=\"card-title\">倚天屠龙记(共四册)</h3>\n",
       "    <h5 class=\"card-text\">豆瓣分8.6</h5>\n",
       "  </div>\n",
       "  <div class=\"card-footer text-muted\">\n",
       "    排名第159\n",
       "  </div>\n",
       "</div>\n",
       "</div>"
      ],
      "text/plain": [
       "<IPython.core.display.HTML object>"
      ]
     },
     "execution_count": 21,
     "metadata": {},
     "output_type": "execute_result"
    }
   ],
   "source": [
    "HTML(top10['show'][1])"
   ]
  },
  {
   "cell_type": "code",
   "execution_count": 22,
   "id": "09345f16-a41b-4efb-81a9-d7dd3bddc40d",
   "metadata": {
    "slideshow": {
     "slide_type": "slide"
    },
    "tags": []
   },
   "outputs": [
    {
     "data": {
      "text/html": [
       "\n",
       "<div class=\"card text-center\" >\n",
       "  <div class=\"card-body bg-secondary\">\n",
       "    <h1 class=\"card-title\">张爱玲</h1>\n",
       "    <h3 class=\"card-text text-center\">上榜5部作品</h3>\n",
       "    <a href=\"#\" class=\"btn btn-primary\">作家榜第3名</a>\n",
       "  </div>\n",
       "</div>\n",
       "<div class=\"card-group\">\n",
       "<div class=\"card text-center\">\n",
       "  <div class=\"card-body\">\n",
       "    <h3 class=\"card-title\">倾城之恋</h3>\n",
       "    <h5 class=\"card-text\">豆瓣分8.7</h5>\n",
       "  </div>\n",
       "  <div class=\"card-footer text-muted\">\n",
       "    排名第117\n",
       "  </div>\n",
       "</div>\n",
       "\n",
       "<div class=\"card text-center\">\n",
       "  <div class=\"card-body\">\n",
       "    <h3 class=\"card-title\">半生缘</h3>\n",
       "    <h5 class=\"card-text\">豆瓣分8.6</h5>\n",
       "  </div>\n",
       "  <div class=\"card-footer text-muted\">\n",
       "    排名第138\n",
       "  </div>\n",
       "</div>\n",
       "\n",
       "<div class=\"card text-center\">\n",
       "  <div class=\"card-body\">\n",
       "    <h3 class=\"card-title\">金锁记</h3>\n",
       "    <h5 class=\"card-text\">豆瓣分8.6</h5>\n",
       "  </div>\n",
       "  <div class=\"card-footer text-muted\">\n",
       "    排名第191\n",
       "  </div>\n",
       "</div>\n",
       "\n",
       "<div class=\"card text-center\">\n",
       "  <div class=\"card-body\">\n",
       "    <h3 class=\"card-title\">张爱玲文集</h3>\n",
       "    <h5 class=\"card-text\">豆瓣分8.9</h5>\n",
       "  </div>\n",
       "  <div class=\"card-footer text-muted\">\n",
       "    排名第192\n",
       "  </div>\n",
       "</div>\n",
       "\n",
       "<div class=\"card text-center\">\n",
       "  <div class=\"card-body\">\n",
       "    <h3 class=\"card-title\">红玫瑰与白玫瑰</h3>\n",
       "    <h5 class=\"card-text\">豆瓣分8.4</h5>\n",
       "  </div>\n",
       "  <div class=\"card-footer text-muted\">\n",
       "    排名第246\n",
       "  </div>\n",
       "</div>\n",
       "</div>"
      ],
      "text/plain": [
       "<IPython.core.display.HTML object>"
      ]
     },
     "execution_count": 22,
     "metadata": {},
     "output_type": "execute_result"
    }
   ],
   "source": [
    "HTML(top10['show'][2])"
   ]
  },
  {
   "cell_type": "code",
   "execution_count": 23,
   "id": "1f5e9ed1-0351-41f3-9bdc-8cd417435aa7",
   "metadata": {
    "slideshow": {
     "slide_type": "slide"
    },
    "tags": []
   },
   "outputs": [
    {
     "data": {
      "text/html": [
       "\n",
       "<div class=\"card text-center\" >\n",
       "  <div class=\"card-body bg-secondary\">\n",
       "    <h1 class=\"card-title\">鲁迅</h1>\n",
       "    <h3 class=\"card-text text-center\">上榜5部作品</h3>\n",
       "    <a href=\"#\" class=\"btn btn-primary\">作家榜第4名</a>\n",
       "  </div>\n",
       "</div>\n",
       "<div class=\"card-group\">\n",
       "<div class=\"card text-center\">\n",
       "  <div class=\"card-body\">\n",
       "    <h3 class=\"card-title\">呐喊</h3>\n",
       "    <h5 class=\"card-text\">豆瓣分9.0</h5>\n",
       "  </div>\n",
       "  <div class=\"card-footer text-muted\">\n",
       "    排名第31\n",
       "  </div>\n",
       "</div>\n",
       "\n",
       "<div class=\"card text-center\">\n",
       "  <div class=\"card-body\">\n",
       "    <h3 class=\"card-title\">野草</h3>\n",
       "    <h5 class=\"card-text\">豆瓣分9.4</h5>\n",
       "  </div>\n",
       "  <div class=\"card-footer text-muted\">\n",
       "    排名第56\n",
       "  </div>\n",
       "</div>\n",
       "\n",
       "<div class=\"card text-center\">\n",
       "  <div class=\"card-body\">\n",
       "    <h3 class=\"card-title\">朝花夕拾</h3>\n",
       "    <h5 class=\"card-text\">豆瓣分8.9</h5>\n",
       "  </div>\n",
       "  <div class=\"card-footer text-muted\">\n",
       "    排名第57\n",
       "  </div>\n",
       "</div>\n",
       "\n",
       "<div class=\"card text-center\">\n",
       "  <div class=\"card-body\">\n",
       "    <h3 class=\"card-title\">彷徨</h3>\n",
       "    <h5 class=\"card-text\">豆瓣分9.1</h5>\n",
       "  </div>\n",
       "  <div class=\"card-footer text-muted\">\n",
       "    排名第60\n",
       "  </div>\n",
       "</div>\n",
       "\n",
       "<div class=\"card text-center\">\n",
       "  <div class=\"card-body\">\n",
       "    <h3 class=\"card-title\">故事新编</h3>\n",
       "    <h5 class=\"card-text\">豆瓣分9.4</h5>\n",
       "  </div>\n",
       "  <div class=\"card-footer text-muted\">\n",
       "    排名第91\n",
       "  </div>\n",
       "</div>\n",
       "</div>"
      ],
      "text/plain": [
       "<IPython.core.display.HTML object>"
      ]
     },
     "execution_count": 23,
     "metadata": {},
     "output_type": "execute_result"
    }
   ],
   "source": [
    "HTML(top10['show'][3])"
   ]
  },
  {
   "cell_type": "code",
   "execution_count": 24,
   "id": "19de4096-e07c-4dbe-99c2-8f5e6b226529",
   "metadata": {
    "slideshow": {
     "slide_type": "slide"
    },
    "tags": []
   },
   "outputs": [
    {
     "data": {
      "text/html": [
       "\n",
       "<div class=\"card text-center\" >\n",
       "  <div class=\"card-body bg-secondary\">\n",
       "    <h1 class=\"card-title\">王小波</h1>\n",
       "    <h3 class=\"card-text text-center\">上榜5部作品</h3>\n",
       "    <a href=\"#\" class=\"btn btn-primary\">作家榜第5名</a>\n",
       "  </div>\n",
       "</div>\n",
       "<div class=\"card-group\">\n",
       "<div class=\"card text-center\">\n",
       "  <div class=\"card-body\">\n",
       "    <h3 class=\"card-title\">沉默的大多数:王小波杂文随笔全编</h3>\n",
       "    <h5 class=\"card-text\">豆瓣分9.1</h5>\n",
       "  </div>\n",
       "  <div class=\"card-footer text-muted\">\n",
       "    排名第21\n",
       "  </div>\n",
       "</div>\n",
       "\n",
       "<div class=\"card text-center\">\n",
       "  <div class=\"card-body\">\n",
       "    <h3 class=\"card-title\">黄金时代:时代三部曲</h3>\n",
       "    <h5 class=\"card-text\">豆瓣分8.9</h5>\n",
       "  </div>\n",
       "  <div class=\"card-footer text-muted\">\n",
       "    排名第44\n",
       "  </div>\n",
       "</div>\n",
       "\n",
       "<div class=\"card text-center\">\n",
       "  <div class=\"card-body\">\n",
       "    <h3 class=\"card-title\">爱你就像爱生命</h3>\n",
       "    <h5 class=\"card-text\">豆瓣分8.8</h5>\n",
       "  </div>\n",
       "  <div class=\"card-footer text-muted\">\n",
       "    排名第74\n",
       "  </div>\n",
       "</div>\n",
       "\n",
       "<div class=\"card text-center\">\n",
       "  <div class=\"card-body\">\n",
       "    <h3 class=\"card-title\">绿毛水怪</h3>\n",
       "    <h5 class=\"card-text\">豆瓣分9.0</h5>\n",
       "  </div>\n",
       "  <div class=\"card-footer text-muted\">\n",
       "    排名第148\n",
       "  </div>\n",
       "</div>\n",
       "\n",
       "<div class=\"card text-center\">\n",
       "  <div class=\"card-body\">\n",
       "    <h3 class=\"card-title\">青铜时代:时代三部曲</h3>\n",
       "    <h5 class=\"card-text\">豆瓣分8.7</h5>\n",
       "  </div>\n",
       "  <div class=\"card-footer text-muted\">\n",
       "    排名第178\n",
       "  </div>\n",
       "</div>\n",
       "</div>"
      ],
      "text/plain": [
       "<IPython.core.display.HTML object>"
      ]
     },
     "execution_count": 24,
     "metadata": {},
     "output_type": "execute_result"
    }
   ],
   "source": [
    "HTML(top10['show'][4])"
   ]
  },
  {
   "cell_type": "code",
   "execution_count": 25,
   "id": "7eec484c-6f75-402b-9987-a749a894ec19",
   "metadata": {
    "slideshow": {
     "slide_type": "slide"
    },
    "tags": []
   },
   "outputs": [
    {
     "data": {
      "text/html": [
       "\n",
       "<div class=\"card text-center\" >\n",
       "  <div class=\"card-body bg-secondary\">\n",
       "    <h1 class=\"card-title\">[奥] 斯蒂芬·茨威格</h1>\n",
       "    <h3 class=\"card-text text-center\">上榜4部作品</h3>\n",
       "    <a href=\"#\" class=\"btn btn-primary\">作家榜第6名</a>\n",
       "  </div>\n",
       "</div>\n",
       "<div class=\"card-group\">\n",
       "<div class=\"card text-center\">\n",
       "  <div class=\"card-body\">\n",
       "    <h3 class=\"card-title\">一个陌生女人的来信</h3>\n",
       "    <h5 class=\"card-text\">豆瓣分8.7</h5>\n",
       "  </div>\n",
       "  <div class=\"card-footer text-muted\">\n",
       "    排名第98\n",
       "  </div>\n",
       "</div>\n",
       "\n",
       "<div class=\"card text-center\">\n",
       "  <div class=\"card-body\">\n",
       "    <h3 class=\"card-title\">昨日的世界:一个欧洲人的回忆</h3>\n",
       "    <h5 class=\"card-text\">豆瓣分9.2</h5>\n",
       "  </div>\n",
       "  <div class=\"card-footer text-muted\">\n",
       "    排名第152\n",
       "  </div>\n",
       "</div>\n",
       "\n",
       "<div class=\"card text-center\">\n",
       "  <div class=\"card-body\">\n",
       "    <h3 class=\"card-title\">人类的群星闪耀时</h3>\n",
       "    <h5 class=\"card-text\">豆瓣分8.7</h5>\n",
       "  </div>\n",
       "  <div class=\"card-footer text-muted\">\n",
       "    排名第200\n",
       "  </div>\n",
       "</div>\n",
       "\n",
       "<div class=\"card text-center\">\n",
       "  <div class=\"card-body\">\n",
       "    <h3 class=\"card-title\">象棋的故事</h3>\n",
       "    <h5 class=\"card-text\">豆瓣分9.1</h5>\n",
       "  </div>\n",
       "  <div class=\"card-footer text-muted\">\n",
       "    排名第223\n",
       "  </div>\n",
       "</div>\n",
       "</div>"
      ],
      "text/plain": [
       "<IPython.core.display.HTML object>"
      ]
     },
     "execution_count": 25,
     "metadata": {},
     "output_type": "execute_result"
    }
   ],
   "source": [
    "HTML(top10['show'][5])"
   ]
  }
 ],
 "metadata": {
  "celltoolbar": "幻灯片",
  "kernelspec": {
   "display_name": "Python 3 (ipykernel)",
   "language": "python",
   "name": "python3"
  },
  "language_info": {
   "codemirror_mode": {
    "name": "ipython",
    "version": 3
   },
   "file_extension": ".py",
   "mimetype": "text/x-python",
   "name": "python",
   "nbconvert_exporter": "python",
   "pygments_lexer": "ipython3",
   "version": "3.10.10"
  }
 },
 "nbformat": 4,
 "nbformat_minor": 5
}
